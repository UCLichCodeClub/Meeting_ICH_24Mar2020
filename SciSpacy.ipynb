{
 "cells": [
  {
   "cell_type": "markdown",
   "metadata": {},
   "source": [
    "## Spacy: word embeddings and dependency parsing"
   ]
  },
  {
   "cell_type": "code",
   "execution_count": 1,
   "metadata": {
    "pycharm": {
     "is_executing": false
    }
   },
   "outputs": [
    {
     "name": "stdout",
     "output_type": "stream",
     "text": [
      "These are the components of the pipeline:  ['tagger', 'parser', 'ner']\n"
     ]
    }
   ],
   "source": [
    "import spacy \n",
    "from spacy import displacy\n",
    "nlp = spacy.load(\"en_ner_bc5cdr_md\") # load spacy model for biomedical text (SciSpacy repository)\n",
    "print(\"These are the components of the pipeline: \",nlp.pipe_names)"
   ]
  },
  {
   "cell_type": "markdown",
   "metadata": {},
   "source": [
    "Now we can pass text through this pipeline and visualize the properties of the tokens"
   ]
  },
  {
   "cell_type": "code",
   "execution_count": 2,
   "metadata": {
    "pycharm": {
     "is_executing": false
    },
    "scrolled": true
   },
   "outputs": [
    {
     "name": "stdout",
     "output_type": "stream",
     "text": [
      "Text Lemma POS Tag DEP Shape Alpha Stopword\n",
      "Aspirin aspirin NOUN NN nsubj Xxxxx True False\n",
      "treats treat VERB VBZ ROOT xxxx True False\n",
      "headaches headache NOUN NNS dobj xxxx True False\n",
      ". . PUNCT . punct . False False\n",
      "Aspirin aspirin NOUN NN nsubj Xxxxx True False\n",
      "can can AUX MD aux xxx True True\n",
      "help help VERB VB ROOT xxxx True False\n",
      "prevent prevent VERB VB xcomp xxxx True False\n",
      "heart heart NOUN NN compound xxxx True False\n",
      "attacks attack NOUN NNS dobj xxxx True False\n"
     ]
    }
   ],
   "source": [
    "text = \"Aspirin treats headaches. Aspirin can help prevent heart attacks\"\n",
    "doc = nlp(text) # encode text\n",
    "print(\"Text\",\"Lemma\",\"POS\",\"Tag\",\"DEP\",\"Shape\",\"Alpha\",\"Stopword\")\n",
    "for token in doc:\n",
    "    print(token.text, token.lemma_, token.pos_, token.tag_, token.dep_,\n",
    "            token.shape_, token.is_alpha, token.is_stop)"
   ]
  },
  {
   "cell_type": "code",
   "execution_count": 3,
   "metadata": {
    "pycharm": {
     "is_executing": false
    }
   },
   "outputs": [
    {
     "data": {
      "text/html": [
       "<div class=\"entities\" style=\"line-height: 2.5; direction: ltr\">\n",
       "<mark class=\"entity\" style=\"background: #ddd; padding: 0.45em 0.6em; margin: 0 0.25em; line-height: 1; border-radius: 0.35em;\">\n",
       "    Aspirin\n",
       "    <span style=\"font-size: 0.8em; font-weight: bold; line-height: 1; border-radius: 0.35em; text-transform: uppercase; vertical-align: middle; margin-left: 0.5rem\">CHEMICAL</span>\n",
       "</mark>\n",
       " treats \n",
       "<mark class=\"entity\" style=\"background: #ddd; padding: 0.45em 0.6em; margin: 0 0.25em; line-height: 1; border-radius: 0.35em;\">\n",
       "    headaches\n",
       "    <span style=\"font-size: 0.8em; font-weight: bold; line-height: 1; border-radius: 0.35em; text-transform: uppercase; vertical-align: middle; margin-left: 0.5rem\">DISEASE</span>\n",
       "</mark>\n",
       ". \n",
       "<mark class=\"entity\" style=\"background: #ddd; padding: 0.45em 0.6em; margin: 0 0.25em; line-height: 1; border-radius: 0.35em;\">\n",
       "    Aspirin\n",
       "    <span style=\"font-size: 0.8em; font-weight: bold; line-height: 1; border-radius: 0.35em; text-transform: uppercase; vertical-align: middle; margin-left: 0.5rem\">CHEMICAL</span>\n",
       "</mark>\n",
       " can help prevent heart attacks</div>"
      ],
      "text/plain": [
       "<IPython.core.display.HTML object>"
      ]
     },
     "metadata": {},
     "output_type": "display_data"
    }
   ],
   "source": [
    "displacy.render(doc, style=\"ent\",jupyter=True)"
   ]
  },
  {
   "cell_type": "markdown",
   "metadata": {},
   "source": [
    "Visualize the vector representation of a token: "
   ]
  },
  {
   "cell_type": "code",
   "execution_count": 4,
   "metadata": {
    "pycharm": {
     "is_executing": false
    }
   },
   "outputs": [
    {
     "name": "stdout",
     "output_type": "stream",
     "text": [
      "Vecotor representation for  Aspirin [ 2.24932e-01  2.03395e-01  5.74836e-02 -1.96803e-01  5.23851e-02\n",
      "  2.24480e-01  7.91169e-03  8.96598e-02 -1.15640e-01  3.40637e-01\n",
      " -5.23125e-02  2.05858e-01  1.23958e-01 -2.48504e-01  1.49680e-01\n",
      " -1.71793e-01 -4.03890e-02  5.93002e-02  9.78609e-02 -2.51881e-01\n",
      "  1.42991e-01  1.21897e-02  2.73099e-01 -1.05418e-01 -2.76472e-01\n",
      " -2.00318e-01  2.79996e-02  1.29650e-01  8.99813e-03 -4.11708e-01\n",
      " -1.11245e-01 -3.56730e-01 -3.22773e-01  1.76244e-01  6.32070e-02\n",
      "  3.53679e-01 -3.32153e-01  2.62634e-01 -2.15946e-01 -8.91495e-02\n",
      " -2.89161e-01 -2.39671e-01 -1.46115e-01  4.71541e-01  2.18519e-01\n",
      " -9.89318e-02 -1.70151e-01 -1.58439e-01 -1.41072e-01 -2.11200e-01\n",
      "  4.99705e-02 -9.47361e-02 -1.36008e-01 -2.46474e-01 -4.75351e-01\n",
      " -8.90834e-02  3.87687e-01 -3.21877e-01 -9.66057e-02  2.53608e-01\n",
      "  4.24328e-01 -2.09000e-01  4.27253e-02 -2.93681e-01 -3.12664e-01\n",
      " -4.08665e-01 -6.07253e-02 -2.71681e-01  7.16692e-02  1.17430e-02\n",
      "  2.03171e-01  2.32340e-01  3.87970e-02 -1.21623e-01  1.24280e-02\n",
      "  2.92660e-02  5.86848e-02 -9.54621e-02  2.12169e-01  1.25858e-01\n",
      " -1.98384e-01 -1.26389e-01  6.24631e-01 -3.10437e-01 -1.33736e-01\n",
      "  2.89068e-01 -3.33628e-02 -1.25283e-01  1.93301e-02 -7.16826e-02\n",
      " -1.12250e-01  7.86387e-02  9.88028e-02  5.02074e-02  2.82670e-02\n",
      " -5.90708e-02  1.82663e-01 -2.51411e-01 -4.91294e-01 -2.18099e-01\n",
      " -1.29030e-01  3.41793e-01  3.87004e-01 -1.20278e-01  3.03013e-01\n",
      "  3.33008e-01 -1.11237e-01 -2.47787e-01 -2.56709e-01  9.13763e-02\n",
      "  2.75235e-01 -9.28298e-02 -4.28417e-01 -4.21251e-01  5.39826e-01\n",
      "  3.07516e-01  1.95712e-01 -1.57659e-01 -1.84821e-01  1.67390e-01\n",
      "  1.11852e-01 -3.18352e-01  5.01524e-02  3.24418e-01  2.88646e-02\n",
      "  2.95077e-01  4.23558e-01 -5.72585e-02 -5.30894e-02  2.06496e-01\n",
      "  9.53700e-02  1.72797e-01 -1.44368e-01  2.04466e-01 -4.33352e-01\n",
      "  3.90929e-02 -1.30506e-01 -1.42423e-01 -7.33198e-02  1.08371e-01\n",
      " -4.34380e-02 -1.15107e-01  3.52153e-02 -3.37945e-01  3.88083e-02\n",
      "  2.28004e-01  2.88805e-02  2.55866e-01  2.35749e-02  2.92562e-01\n",
      " -5.29768e-01  1.41807e-01  4.39605e-02  1.53646e-01  2.28329e-01\n",
      " -1.81045e-01 -1.72526e-01 -1.68735e-01  6.13543e-02  1.37759e-01\n",
      "  2.62847e-01  2.45366e-01 -5.15249e-02 -2.09019e-01 -7.52058e-02\n",
      "  8.31198e-02  3.43918e-01  8.63492e-02  5.70357e-01  3.90766e-01\n",
      " -4.40424e-04 -2.26287e-02  2.16231e-01  1.35908e-01  3.07775e-02\n",
      "  3.32733e-01 -1.87698e-01 -2.40213e-01 -1.39015e-04 -4.64623e-01\n",
      "  9.88444e-02  2.83782e-01 -1.72094e-01 -1.81408e-01  3.22976e-02\n",
      "  3.74156e-02  3.03962e-01  2.78554e-01 -2.68097e-01  6.59177e-02\n",
      " -1.59550e-01 -1.19578e-01  5.70372e-02 -1.63765e-01  3.12450e-01\n",
      "  5.13073e-02  9.84117e-02 -1.60217e-01 -2.70884e-01  1.54853e-02]\n"
     ]
    }
   ],
   "source": [
    "print(\"Vecotor representation for \", doc[0].text,doc[0].vector)"
   ]
  },
  {
   "cell_type": "markdown",
   "metadata": {},
   "source": [
    "Visualize dependencies"
   ]
  },
  {
   "cell_type": "code",
   "execution_count": 5,
   "metadata": {
    "pycharm": {
     "is_executing": false
    }
   },
   "outputs": [
    {
     "data": {
      "text/html": [
       "<svg xmlns=\"http://www.w3.org/2000/svg\" xmlns:xlink=\"http://www.w3.org/1999/xlink\" xml:lang=\"en\" id=\"b2b97f7e563f48dfaa94b50857158922-0\" class=\"displacy\" width=\"1625\" height=\"312.0\" direction=\"ltr\" style=\"max-width: none; height: 312.0px; color: #000000; background: #ffffff; font-family: Arial; direction: ltr\">\n",
       "<text class=\"displacy-token\" fill=\"currentColor\" text-anchor=\"middle\" y=\"222.0\">\n",
       "    <tspan class=\"displacy-word\" fill=\"currentColor\" x=\"50\">Aspirin</tspan>\n",
       "    <tspan class=\"displacy-tag\" dy=\"2em\" fill=\"currentColor\" x=\"50\">NOUN</tspan>\n",
       "</text>\n",
       "\n",
       "<text class=\"displacy-token\" fill=\"currentColor\" text-anchor=\"middle\" y=\"222.0\">\n",
       "    <tspan class=\"displacy-word\" fill=\"currentColor\" x=\"225\">treats</tspan>\n",
       "    <tspan class=\"displacy-tag\" dy=\"2em\" fill=\"currentColor\" x=\"225\">VERB</tspan>\n",
       "</text>\n",
       "\n",
       "<text class=\"displacy-token\" fill=\"currentColor\" text-anchor=\"middle\" y=\"222.0\">\n",
       "    <tspan class=\"displacy-word\" fill=\"currentColor\" x=\"400\">headaches.</tspan>\n",
       "    <tspan class=\"displacy-tag\" dy=\"2em\" fill=\"currentColor\" x=\"400\">NOUN</tspan>\n",
       "</text>\n",
       "\n",
       "<text class=\"displacy-token\" fill=\"currentColor\" text-anchor=\"middle\" y=\"222.0\">\n",
       "    <tspan class=\"displacy-word\" fill=\"currentColor\" x=\"575\">Aspirin</tspan>\n",
       "    <tspan class=\"displacy-tag\" dy=\"2em\" fill=\"currentColor\" x=\"575\">NOUN</tspan>\n",
       "</text>\n",
       "\n",
       "<text class=\"displacy-token\" fill=\"currentColor\" text-anchor=\"middle\" y=\"222.0\">\n",
       "    <tspan class=\"displacy-word\" fill=\"currentColor\" x=\"750\">can</tspan>\n",
       "    <tspan class=\"displacy-tag\" dy=\"2em\" fill=\"currentColor\" x=\"750\">AUX</tspan>\n",
       "</text>\n",
       "\n",
       "<text class=\"displacy-token\" fill=\"currentColor\" text-anchor=\"middle\" y=\"222.0\">\n",
       "    <tspan class=\"displacy-word\" fill=\"currentColor\" x=\"925\">help</tspan>\n",
       "    <tspan class=\"displacy-tag\" dy=\"2em\" fill=\"currentColor\" x=\"925\">VERB</tspan>\n",
       "</text>\n",
       "\n",
       "<text class=\"displacy-token\" fill=\"currentColor\" text-anchor=\"middle\" y=\"222.0\">\n",
       "    <tspan class=\"displacy-word\" fill=\"currentColor\" x=\"1100\">prevent</tspan>\n",
       "    <tspan class=\"displacy-tag\" dy=\"2em\" fill=\"currentColor\" x=\"1100\">VERB</tspan>\n",
       "</text>\n",
       "\n",
       "<text class=\"displacy-token\" fill=\"currentColor\" text-anchor=\"middle\" y=\"222.0\">\n",
       "    <tspan class=\"displacy-word\" fill=\"currentColor\" x=\"1275\">heart</tspan>\n",
       "    <tspan class=\"displacy-tag\" dy=\"2em\" fill=\"currentColor\" x=\"1275\">NOUN</tspan>\n",
       "</text>\n",
       "\n",
       "<text class=\"displacy-token\" fill=\"currentColor\" text-anchor=\"middle\" y=\"222.0\">\n",
       "    <tspan class=\"displacy-word\" fill=\"currentColor\" x=\"1450\">attacks</tspan>\n",
       "    <tspan class=\"displacy-tag\" dy=\"2em\" fill=\"currentColor\" x=\"1450\">NOUN</tspan>\n",
       "</text>\n",
       "\n",
       "<g class=\"displacy-arrow\">\n",
       "    <path class=\"displacy-arc\" id=\"arrow-b2b97f7e563f48dfaa94b50857158922-0-0\" stroke-width=\"2px\" d=\"M70,177.0 C70,89.5 220.0,89.5 220.0,177.0\" fill=\"none\" stroke=\"currentColor\"/>\n",
       "    <text dy=\"1.25em\" style=\"font-size: 0.8em; letter-spacing: 1px\">\n",
       "        <textPath xlink:href=\"#arrow-b2b97f7e563f48dfaa94b50857158922-0-0\" class=\"displacy-label\" startOffset=\"50%\" side=\"left\" fill=\"currentColor\" text-anchor=\"middle\">nsubj</textPath>\n",
       "    </text>\n",
       "    <path class=\"displacy-arrowhead\" d=\"M70,179.0 L62,167.0 78,167.0\" fill=\"currentColor\"/>\n",
       "</g>\n",
       "\n",
       "<g class=\"displacy-arrow\">\n",
       "    <path class=\"displacy-arc\" id=\"arrow-b2b97f7e563f48dfaa94b50857158922-0-1\" stroke-width=\"2px\" d=\"M245,177.0 C245,89.5 395.0,89.5 395.0,177.0\" fill=\"none\" stroke=\"currentColor\"/>\n",
       "    <text dy=\"1.25em\" style=\"font-size: 0.8em; letter-spacing: 1px\">\n",
       "        <textPath xlink:href=\"#arrow-b2b97f7e563f48dfaa94b50857158922-0-1\" class=\"displacy-label\" startOffset=\"50%\" side=\"left\" fill=\"currentColor\" text-anchor=\"middle\">dobj</textPath>\n",
       "    </text>\n",
       "    <path class=\"displacy-arrowhead\" d=\"M395.0,179.0 L403.0,167.0 387.0,167.0\" fill=\"currentColor\"/>\n",
       "</g>\n",
       "\n",
       "<g class=\"displacy-arrow\">\n",
       "    <path class=\"displacy-arc\" id=\"arrow-b2b97f7e563f48dfaa94b50857158922-0-2\" stroke-width=\"2px\" d=\"M595,177.0 C595,2.0 925.0,2.0 925.0,177.0\" fill=\"none\" stroke=\"currentColor\"/>\n",
       "    <text dy=\"1.25em\" style=\"font-size: 0.8em; letter-spacing: 1px\">\n",
       "        <textPath xlink:href=\"#arrow-b2b97f7e563f48dfaa94b50857158922-0-2\" class=\"displacy-label\" startOffset=\"50%\" side=\"left\" fill=\"currentColor\" text-anchor=\"middle\">nsubj</textPath>\n",
       "    </text>\n",
       "    <path class=\"displacy-arrowhead\" d=\"M595,179.0 L587,167.0 603,167.0\" fill=\"currentColor\"/>\n",
       "</g>\n",
       "\n",
       "<g class=\"displacy-arrow\">\n",
       "    <path class=\"displacy-arc\" id=\"arrow-b2b97f7e563f48dfaa94b50857158922-0-3\" stroke-width=\"2px\" d=\"M770,177.0 C770,89.5 920.0,89.5 920.0,177.0\" fill=\"none\" stroke=\"currentColor\"/>\n",
       "    <text dy=\"1.25em\" style=\"font-size: 0.8em; letter-spacing: 1px\">\n",
       "        <textPath xlink:href=\"#arrow-b2b97f7e563f48dfaa94b50857158922-0-3\" class=\"displacy-label\" startOffset=\"50%\" side=\"left\" fill=\"currentColor\" text-anchor=\"middle\">aux</textPath>\n",
       "    </text>\n",
       "    <path class=\"displacy-arrowhead\" d=\"M770,179.0 L762,167.0 778,167.0\" fill=\"currentColor\"/>\n",
       "</g>\n",
       "\n",
       "<g class=\"displacy-arrow\">\n",
       "    <path class=\"displacy-arc\" id=\"arrow-b2b97f7e563f48dfaa94b50857158922-0-4\" stroke-width=\"2px\" d=\"M945,177.0 C945,89.5 1095.0,89.5 1095.0,177.0\" fill=\"none\" stroke=\"currentColor\"/>\n",
       "    <text dy=\"1.25em\" style=\"font-size: 0.8em; letter-spacing: 1px\">\n",
       "        <textPath xlink:href=\"#arrow-b2b97f7e563f48dfaa94b50857158922-0-4\" class=\"displacy-label\" startOffset=\"50%\" side=\"left\" fill=\"currentColor\" text-anchor=\"middle\">xcomp</textPath>\n",
       "    </text>\n",
       "    <path class=\"displacy-arrowhead\" d=\"M1095.0,179.0 L1103.0,167.0 1087.0,167.0\" fill=\"currentColor\"/>\n",
       "</g>\n",
       "\n",
       "<g class=\"displacy-arrow\">\n",
       "    <path class=\"displacy-arc\" id=\"arrow-b2b97f7e563f48dfaa94b50857158922-0-5\" stroke-width=\"2px\" d=\"M1295,177.0 C1295,89.5 1445.0,89.5 1445.0,177.0\" fill=\"none\" stroke=\"currentColor\"/>\n",
       "    <text dy=\"1.25em\" style=\"font-size: 0.8em; letter-spacing: 1px\">\n",
       "        <textPath xlink:href=\"#arrow-b2b97f7e563f48dfaa94b50857158922-0-5\" class=\"displacy-label\" startOffset=\"50%\" side=\"left\" fill=\"currentColor\" text-anchor=\"middle\">compound</textPath>\n",
       "    </text>\n",
       "    <path class=\"displacy-arrowhead\" d=\"M1295,179.0 L1287,167.0 1303,167.0\" fill=\"currentColor\"/>\n",
       "</g>\n",
       "\n",
       "<g class=\"displacy-arrow\">\n",
       "    <path class=\"displacy-arc\" id=\"arrow-b2b97f7e563f48dfaa94b50857158922-0-6\" stroke-width=\"2px\" d=\"M1120,177.0 C1120,2.0 1450.0,2.0 1450.0,177.0\" fill=\"none\" stroke=\"currentColor\"/>\n",
       "    <text dy=\"1.25em\" style=\"font-size: 0.8em; letter-spacing: 1px\">\n",
       "        <textPath xlink:href=\"#arrow-b2b97f7e563f48dfaa94b50857158922-0-6\" class=\"displacy-label\" startOffset=\"50%\" side=\"left\" fill=\"currentColor\" text-anchor=\"middle\">dobj</textPath>\n",
       "    </text>\n",
       "    <path class=\"displacy-arrowhead\" d=\"M1450.0,179.0 L1458.0,167.0 1442.0,167.0\" fill=\"currentColor\"/>\n",
       "</g>\n",
       "</svg>"
      ],
      "text/plain": [
       "<IPython.core.display.HTML object>"
      ]
     },
     "metadata": {},
     "output_type": "display_data"
    }
   ],
   "source": [
    "displacy.render(doc, style = \"dep\",jupyter=True)"
   ]
  },
  {
   "cell_type": "markdown",
   "metadata": {},
   "source": [
    "Have a look at all the models available for biomedical text in scispacy: https://github.com/allenai/scispacy"
   ]
  }
 ],
 "metadata": {
  "kernelspec": {
   "display_name": "Python 3",
   "language": "python",
   "name": "python3"
  },
  "language_info": {
   "codemirror_mode": {
    "name": "ipython",
    "version": 3
   },
   "file_extension": ".py",
   "mimetype": "text/x-python",
   "name": "python",
   "nbconvert_exporter": "python",
   "pygments_lexer": "ipython3",
   "version": "3.7.4"
  },
  "pycharm": {
   "stem_cell": {
    "cell_type": "raw",
    "metadata": {
     "collapsed": false
    },
    "source": []
   }
  }
 },
 "nbformat": 4,
 "nbformat_minor": 4
}
